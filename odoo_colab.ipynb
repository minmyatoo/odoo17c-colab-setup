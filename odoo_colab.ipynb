# Cell 1: System Updates and PostgreSQL Installation
!apt-get update
!apt-get install -y postgresql postgresql-client
!service postgresql start

# Cell 2: Create PostgreSQL User and Database
!sudo -u postgres psql -c "DROP DATABASE IF EXISTS odoo;"
!sudo -u postgres psql -c "DROP USER IF EXISTS odoo;"
!sudo -u postgres psql -c "CREATE USER odoo WITH PASSWORD 'odoo' CREATEDB;"
!sudo -u postgres psql -c "CREATE DATABASE odoo OWNER odoo;"

# Cell 3: Install System Dependencies
!apt-get install -y python3-pip python3-dev python3-venv python3-wheel \
    build-essential libxslt-dev libzip-dev libldap2-dev libsasl2-dev \
    python3-setuptools node-less libjpeg-dev zlib1g-dev libpq-dev \
    libxml2-dev libxslt1-dev lib32z1-dev liblcms2-dev libwebp-dev \
    libharfbuzz-dev libfribidi-dev libxcb1-dev wkhtmltopdf

# Cell 4: Clone Odoo Repository
!git clone https://github.com/odoo/odoo.git --depth 1 --branch 17.0 --single-branch src/odoo17c

# Cell 5: Create and Activate Virtual Environment
!python3 -m venv .venv
!source .venv/bin/activate

# Cell 6: Install Python Dependencies
!pip3 install wheel
!pip3 install psycopg2-binary
!pip3 install Babel==2.13.1
!pip3 install lxml_html_clean

# Cell 7: Install Odoo Requirements (with psycopg2 commented out)
!grep -v "psycopg2" src/odoo17c/requirements.txt > requirements_modified.txt
!pip3 install -r requirements_modified.txt

# Cell 8: Create Configuration File
import os

os.makedirs('conf', exist_ok=True)

config_content = """[options]
admin_passwd = master
db_host = localhost
db_port = 5432
db_user = odoo
db_password = odoo
db_name = odoo
default_productivity_apps = True
xmlrpc_port = 8070
addons_path = /content/src/odoo17c/addons,/content/src/odoo17c/odoo/addons"""

with open('conf/odoo.conf', 'w') as f:
    f.write(config_content)

# Cell 9: Initialize Database with Base Modules
!python3 src/odoo17c/odoo-bin -c conf/odoo.conf -d odoo -i base --stop-after-init

# Cell 10: Install and Setup ngrok
!pip install pyngrok
# Replace YOUR_NGROK_AUTH_TOKEN with your actual token from https://dashboard.ngrok.com/auth/your-authtoken
!ngrok authtoken YOUR_NGROK_AUTH_TOKEN

# Cell 11: Start ngrok tunnel and Odoo server
from pyngrok import ngrok

# Create tunnel
public_url = ngrok.connect(8070)
print(f"Odoo is now available at: {public_url}")

# Start Odoo server
!python3 src/odoo17c/odoo-bin -c conf/odoo.conf
